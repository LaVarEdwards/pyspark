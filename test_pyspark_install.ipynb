{
 "cells": [
  {
   "cell_type": "markdown",
   "id": "bcac29b3-fec6-45cc-9f48-c222d60cc1ca",
   "metadata": {},
   "source": [
    "# test pyspark install"
   ]
  },
  {
   "cell_type": "code",
   "execution_count": 1,
   "id": "3e42edf0-0b09-4ba7-a52c-0812b8334ee2",
   "metadata": {},
   "outputs": [
    {
     "name": "stderr",
     "output_type": "stream",
     "text": [
      "                                                                                \r"
     ]
    },
    {
     "name": "stdout",
     "output_type": "stream",
     "text": [
      "+-----+\n",
      "|hello|\n",
      "+-----+\n",
      "|world|\n",
      "+-----+\n",
      "\n"
     ]
    }
   ],
   "source": [
    "import pyspark\n",
    "from pyspark.sql import SparkSession\n",
    "\n",
    "spark = SparkSession.builder.getOrCreate()\n",
    "\n",
    "# Now you can use PySpark in this notebook\n",
    "df = spark.createDataFrame([{\"hello\":\"world\"}])\n",
    "df.show()"
   ]
  },
  {
   "cell_type": "markdown",
   "id": "41d67617-797d-4870-ac1e-c8d21b05e162",
   "metadata": {},
   "source": [
    "# stop the spark session"
   ]
  },
  {
   "cell_type": "code",
   "execution_count": 2,
   "id": "a8e31c47-cf5a-4b25-8b13-a92e9012975c",
   "metadata": {},
   "outputs": [],
   "source": [
    "spark.stop()"
   ]
  },
  {
   "cell_type": "markdown",
   "id": "7f606f45-6063-4ca1-b419-2bcdbf517a78",
   "metadata": {},
   "source": [
    "# start spark with options"
   ]
  },
  {
   "cell_type": "code",
   "execution_count": 4,
   "id": "76d28aeb-4444-48d4-987e-7a5b7a08fd54",
   "metadata": {},
   "outputs": [
    {
     "name": "stdout",
     "output_type": "stream",
     "text": [
      "+-----+\n",
      "|hello|\n",
      "+-----+\n",
      "|world|\n",
      "+-----+\n",
      "\n"
     ]
    }
   ],
   "source": [
    "import pyspark\n",
    "from pyspark.sql import SparkSession\n",
    "\n",
    "spark = SparkSession.builder \\\n",
    "    .appName(\"MyApp\") \\\n",
    "    .config(\"spark.driver.memory\", \"4g\") \\\n",
    "    .getOrCreate()\n",
    "\n",
    "# Now you can use PySpark in this notebook\n",
    "df = spark.createDataFrame([{\"hello\":\"world\"}])\n",
    "df.show()"
   ]
  },
  {
   "cell_type": "markdown",
   "id": "f5a4b53a-1451-4b9e-a80f-e582cbc7494e",
   "metadata": {},
   "source": [
    "# simple spark ETL (extract, transform, and load test"
   ]
  },
  {
   "cell_type": "code",
   "execution_count": 4,
   "id": "36176f18-aff9-4699-81b2-a233d8b8b43f",
   "metadata": {},
   "outputs": [
    {
     "name": "stdout",
     "output_type": "stream",
     "text": [
      "raw data\n",
      "+---------+---------+-----------------+--------------------+-----------+\n",
      "|firstName| lastName|            phone|               email|  birthdate|\n",
      "+---------+---------+-----------------+--------------------+-----------+\n",
      "|    john |   doe   |  (555) 123-4567 | johndoe@example.com| 1985-03-15|\n",
      "|     Jane|   SMITH |    555-9876543  | jane.smith@email...|   19921201|\n",
      "|  ROBERT | WILLIAMS|      5551112222 | robertwilliams@e...| 1978/08/22|\n",
      "| Mary-Ann|    Brown|   555) 333 4444 |maryannbrown@exam...|2000.06.10 |\n",
      "+---------+---------+-----------------+--------------------+-----------+\n",
      "\n",
      "cleaned data\n",
      "+---------+--------+----------+--------------------+----------+---------+----------+--------+\n",
      "|firstName|lastName|     phone|               email| birthdate|age_years|age_months|age_days|\n",
      "+---------+--------+----------+--------------------+----------+---------+----------+--------+\n",
      "|     John|     Doe|5551234567| johndoe@example.com|1985-03-15|       39|       472|   14368|\n",
      "|     Jane|   Smith|5559876543| jane.smith@email...|1992-12-01|       31|       379|   11550|\n",
      "|   Robert|Williams|5551112222| robertwilliams@e...|1978-08-22|       45|       550|   16765|\n",
      "| Mary-ann|   Brown|5553334444|maryannbrown@exam...|2000-06-10|       24|       289|    8802|\n",
      "+---------+--------+----------+--------------------+----------+---------+----------+--------+\n",
      "\n"
     ]
    }
   ],
   "source": [
    "from dateutil.parser import parse\n",
    "from pyspark.sql import SparkSession\n",
    "from pyspark.sql.functions import col, initcap, trim, regexp_replace\n",
    "from pyspark.sql.functions import udf, to_date, datediff, current_date, months_between\n",
    "\n",
    "\n",
    "@udf(\"date\")\n",
    "def parse_date(date_str):\n",
    "    try:\n",
    "        return parse(date_str).date()\n",
    "    except ValueError:\n",
    "        return None  # Handle invalid dates\n",
    "        \n",
    "# 1. Create SparkSession\n",
    "#\n",
    "# Number of cores per executor (default: 1) \\\n",
    "# Number of executors (default: 2) \\\n",
    "spark = SparkSession.builder \\\n",
    "    .appName(\"ETL Example\") \\\n",
    "    .config(\"spark.driver.memory\", \"4g\") \\\n",
    "    .config(\"spark.executor.cores\", 5) \\\n",
    "    .config(\"spark.executor.instances\", 3)  \\\n",
    "    .getOrCreate()\n",
    "\n",
    "# 2. Extract (Read from CSV)\n",
    "#\n",
    "df = spark.read.csv(\"data/customer_data.csv\", header=True, inferSchema=True)\n",
    "# display the raw data\n",
    "print('raw data')\n",
    "df.show()\n",
    "\n",
    "# 3. Transform\n",
    "#   a. Clean names (remove leading/trailing spaces, standardize case)\n",
    "#\n",
    "df = df.withColumn(\"firstName\", trim(col(\"firstName\")))\n",
    "df = df.withColumn(\"lastName\", trim(col(\"lastName\")))\n",
    "df = df.withColumn(\"firstName\", initcap(col(\"firstName\")))\n",
    "df = df.withColumn(\"lastName\", initcap(col(\"lastName\")))\n",
    "\n",
    "#   b. Clean phone numbers (remove non-numeric characters)\n",
    "#\n",
    "df = df.withColumn(\"phone\", regexp_replace(col(\"phone\"), \"[^0-9]\", \"\"))\n",
    "\n",
    "#   c. Additional transformations (e.g., derive age from birthdate, etc.)\n",
    "#\n",
    "# Convert birthdate to date type\n",
    "df = df.withColumn(\"birthdate\", parse_date(\"birthdate\"))\n",
    "\n",
    "# Calculate age in years, months, and days\n",
    "df = df.withColumn(\"age_years\", datediff(current_date(), \"birthdate\") / 365)\n",
    "df = df.withColumn(\"age_months\", months_between(current_date(), \"birthdate\"))\n",
    "df = df.withColumn(\"age_days\", datediff(current_date(), \"birthdate\"))\n",
    "\n",
    "# Cast age columns to integers\n",
    "df = df.withColumn(\"age_years\", col(\"age_years\").cast(\"int\"))\n",
    "df = df.withColumn(\"age_months\", col(\"age_months\").cast(\"int\"))\n",
    "df = df.withColumn(\"age_days\", col(\"age_days\").cast(\"int\"))\n",
    "\n",
    "# 5. Display the cleaned data\n",
    "# display the raw data\n",
    "print('cleaned data')\n",
    "df.show()\n",
    "\n",
    "# 4. Load (Write to Parquet - a columnar format ideal for big data)\n",
    "#\n",
    "df.write.mode(\"overwrite\").parquet(\"data/cleaned_customer_data\")\n",
    "# df.write.parquet(\"data/cleaned_customer_data\")"
   ]
  },
  {
   "cell_type": "code",
   "execution_count": null,
   "id": "2c0090bd-e23a-4580-9e60-c52e0c9242fc",
   "metadata": {},
   "outputs": [],
   "source": []
  }
 ],
 "metadata": {
  "kernelspec": {
   "display_name": "Python 3 (ipykernel)",
   "language": "python",
   "name": "python3"
  },
  "language_info": {
   "codemirror_mode": {
    "name": "ipython",
    "version": 3
   },
   "file_extension": ".py",
   "mimetype": "text/x-python",
   "name": "python",
   "nbconvert_exporter": "python",
   "pygments_lexer": "ipython3",
   "version": "3.12.4"
  }
 },
 "nbformat": 4,
 "nbformat_minor": 5
}
