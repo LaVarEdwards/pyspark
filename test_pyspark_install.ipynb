{
 "cells": [
  {
   "cell_type": "markdown",
   "id": "bcac29b3-fec6-45cc-9f48-c222d60cc1ca",
   "metadata": {},
   "source": [
    "# test pyspark install"
   ]
  },
  {
   "cell_type": "code",
   "execution_count": null,
   "id": "2d8453a1-071b-4601-8894-00cdb165d545",
   "metadata": {},
   "outputs": [],
   "source": []
  },
  {
   "cell_type": "code",
   "execution_count": 5,
   "id": "3e42edf0-0b09-4ba7-a52c-0812b8334ee2",
   "metadata": {},
   "outputs": [
    {
     "name": "stdout",
     "output_type": "stream",
     "text": [
      "+-----+\n",
      "|hello|\n",
      "+-----+\n",
      "|world|\n",
      "+-----+\n",
      "\n"
     ]
    }
   ],
   "source": [
    "import pyspark\n",
    "from pyspark.sql import SparkSession\n",
    "\n",
    "spark = SparkSession.builder.getOrCreate()\n",
    "\n",
    "# Now you can use PySpark in this notebook\n",
    "df = spark.createDataFrame([{\"hello\":\"world\"}])\n",
    "df.show()"
   ]
  },
  {
   "cell_type": "markdown",
   "id": "41d67617-797d-4870-ac1e-c8d21b05e162",
   "metadata": {},
   "source": [
    "# stop the spark session"
   ]
  },
  {
   "cell_type": "code",
   "execution_count": 2,
   "id": "a8e31c47-cf5a-4b25-8b13-a92e9012975c",
   "metadata": {},
   "outputs": [],
   "source": [
    "spark.stop()"
   ]
  },
  {
   "cell_type": "markdown",
   "id": "7f606f45-6063-4ca1-b419-2bcdbf517a78",
   "metadata": {},
   "source": [
    "# start spark with options"
   ]
  },
  {
   "cell_type": "code",
   "execution_count": 4,
   "id": "76d28aeb-4444-48d4-987e-7a5b7a08fd54",
   "metadata": {},
   "outputs": [
    {
     "name": "stdout",
     "output_type": "stream",
     "text": [
      "+-----+\n",
      "|hello|\n",
      "+-----+\n",
      "|world|\n",
      "+-----+\n",
      "\n"
     ]
    }
   ],
   "source": [
    "import pyspark\n",
    "from pyspark.sql import SparkSession\n",
    "\n",
    "spark = SparkSession.builder \\\n",
    "    .appName(\"MyApp\") \\\n",
    "    .config(\"spark.driver.memory\", \"4g\") \\\n",
    "    .getOrCreate()\n",
    "\n",
    "# Now you can use PySpark in this notebook\n",
    "df = spark.createDataFrame([{\"hello\":\"world\"}])\n",
    "df.show()"
   ]
  },
  {
   "cell_type": "code",
   "execution_count": null,
   "id": "8eacdf7f-5956-42b9-b172-c46049e477ee",
   "metadata": {},
   "outputs": [],
   "source": []
  },
  {
   "cell_type": "code",
   "execution_count": null,
   "id": "36176f18-aff9-4699-81b2-a233d8b8b43f",
   "metadata": {},
   "outputs": [],
   "source": []
  },
  {
   "cell_type": "code",
   "execution_count": null,
   "id": "64b22ba1-5875-4f43-8d36-35a15d556e15",
   "metadata": {},
   "outputs": [],
   "source": []
  },
  {
   "cell_type": "code",
   "execution_count": null,
   "id": "2c0090bd-e23a-4580-9e60-c52e0c9242fc",
   "metadata": {},
   "outputs": [],
   "source": []
  }
 ],
 "metadata": {
  "kernelspec": {
   "display_name": "Python 3 (ipykernel)",
   "language": "python",
   "name": "python3"
  },
  "language_info": {
   "codemirror_mode": {
    "name": "ipython",
    "version": 3
   },
   "file_extension": ".py",
   "mimetype": "text/x-python",
   "name": "python",
   "nbconvert_exporter": "python",
   "pygments_lexer": "ipython3",
   "version": "3.12.4"
  }
 },
 "nbformat": 4,
 "nbformat_minor": 5
}
